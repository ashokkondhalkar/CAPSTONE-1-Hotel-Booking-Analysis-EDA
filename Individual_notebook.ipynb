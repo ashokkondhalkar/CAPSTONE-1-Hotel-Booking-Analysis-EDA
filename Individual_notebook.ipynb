{
  "nbformat": 4,
  "nbformat_minor": 0,
  "metadata": {
    "kernelspec": {
      "display_name": "Python 3",
      "language": "python",
      "name": "python3"
    },
    "language_info": {
      "codemirror_mode": {
        "name": "ipython",
        "version": 3
      },
      "file_extension": ".py",
      "mimetype": "text/x-python",
      "name": "python",
      "nbconvert_exporter": "python",
      "pygments_lexer": "ipython3",
      "version": "3.6.6"
    },
    "colab": {
      "provenance": [],
      "collapsed_sections": [
        "Y06xIdG26kRF",
        "K_HnA3R1esBk",
        "LVGxBcyqffF2",
        "l9R2B2Pa0eJ8"
      ],
      "include_colab_link": true
    }
  },
  "cells": [
    {
      "cell_type": "markdown",
      "metadata": {
        "id": "view-in-github",
        "colab_type": "text"
      },
      "source": [
        "<a href=\"https://colab.research.google.com/github/ashokkondhalkar/CAPSTONE-1-Hotel-Booking-Analysis-EDA/blob/main/Individual_notebook.ipynb\" target=\"_parent\"><img src=\"https://colab.research.google.com/assets/colab-badge.svg\" alt=\"Open In Colab\"/></a>"
      ]
    },
    {
      "cell_type": "markdown",
      "metadata": {
        "id": "Y06xIdG26kRF"
      },
      "source": [
        "## <b> Have you ever wondered when the best time of year to book a hotel room is? Or the optimal length of stay in order to get the best daily rate? What if you wanted to predict whether or not a hotel was likely to receive a disproportionately high number of special requests? This hotel booking dataset can help you explore those questions!\n",
        "\n",
        "## <b>This data set contains booking information for a city hotel and a resort hotel, and includes information such as when the booking was made, length of stay, the number of adults, children, and/or babies, and the number of available parking spaces, among other things. All personally identifying information has been removed from the data. </b>\n",
        "\n",
        "## <b> Explore and analyze the data to discover important factors that govern the bookings. </b>"
      ]
    },
    {
      "cell_type": "code",
      "metadata": {
        "id": "dByMsuzT8Tnw"
      },
      "source": [
        "# Importing all neccesary python libraries\n",
        "import numpy as np\n",
        "import pandas as pd\n",
        "import matplotlib\n",
        "import matplotlib.pyplot as plt\n",
        "import seaborn as sns\n",
        "%matplotlib inline"
      ],
      "execution_count": 204,
      "outputs": []
    },
    {
      "cell_type": "code",
      "source": [
        "#Mount drive\n",
        "from google.colab import drive  \n",
        "drive.mount('/content/drive')"
      ],
      "metadata": {
        "colab": {
          "base_uri": "https://localhost:8080/"
        },
        "id": "50QR8ssFIxdK",
        "outputId": "35726ece-179b-4102-ea44-7f29fd2182d3"
      },
      "execution_count": 205,
      "outputs": [
        {
          "output_type": "stream",
          "name": "stdout",
          "text": [
            "Drive already mounted at /content/drive; to attempt to forcibly remount, call drive.mount(\"/content/drive\", force_remount=True).\n"
          ]
        }
      ]
    },
    {
      "cell_type": "code",
      "source": [
        "#Providing file path & we are using pd.read_csv is used to load a CSV file as a pandas dataframe\n",
        "file_path=\"/content/drive/MyDrive/AlmaBetter/Modules/ Topic/CAPSTONE-1-Hotel-Booking-Analysis-EDA/Hotel Bookings.csv\"\n",
        "hotel_df=pd.read_csv(file_path)"
      ],
      "metadata": {
        "id": "WuujJNYnI7WB"
      },
      "execution_count": 206,
      "outputs": []
    },
    {
      "cell_type": "markdown",
      "source": [
        "#Reading and Inspection"
      ],
      "metadata": {
        "id": "K_HnA3R1esBk"
      }
    },
    {
      "cell_type": "code",
      "source": [
        "# .head() function in Python displays the first five rows of the dataframe by default\n",
        "hotel_df.head()"
      ],
      "metadata": {
        "id": "j6FOA2snJmIJ"
      },
      "execution_count": null,
      "outputs": []
    },
    {
      "cell_type": "code",
      "source": [
        "# .shape function shows DataFrame is made up of 119390 rows and 32 columns of data.\n",
        "hotel_df.shape"
      ],
      "metadata": {
        "colab": {
          "base_uri": "https://localhost:8080/"
        },
        "id": "njr1S_X9bn6e",
        "outputId": "9f93279e-db0f-4223-9659-dffcbdfe3fc1"
      },
      "execution_count": 208,
      "outputs": [
        {
          "output_type": "execute_result",
          "data": {
            "text/plain": [
              "(119390, 32)"
            ]
          },
          "metadata": {},
          "execution_count": 208
        }
      ]
    },
    {
      "cell_type": "code",
      "source": [
        "# .columns() function in Python displays the number of columns present in DataFrame   \n",
        "hotel_df.columns"
      ],
      "metadata": {
        "id": "F4KhxlF5KSr7"
      },
      "execution_count": null,
      "outputs": []
    },
    {
      "cell_type": "code",
      "source": [
        "# .describe() function in Python Provides information about statistical aspects of the DataFrame\n",
        "hotel_df.describe()"
      ],
      "metadata": {
        "id": "lP4h-wcpfuQJ"
      },
      "execution_count": null,
      "outputs": []
    },
    {
      "cell_type": "code",
      "source": [
        "# .info() function Provides information about Dtype\n",
        "hotel_df.info()"
      ],
      "metadata": {
        "id": "DdsZS8JaZB1v"
      },
      "execution_count": null,
      "outputs": []
    },
    {
      "cell_type": "code",
      "source": [],
      "metadata": {
        "id": "ORVqY_32aDmw"
      },
      "execution_count": 37,
      "outputs": []
    },
    {
      "cell_type": "markdown",
      "source": [
        "#Data Cleaning"
      ],
      "metadata": {
        "id": "LVGxBcyqffF2"
      }
    },
    {
      "cell_type": "code",
      "source": [
        "#checking missing value in columns\n",
        "#.isna() or .isnull() function gives information about null values\n",
        "hotel_df.isna().sum()"
      ],
      "metadata": {
        "id": "pdL3NG9Gfc2a"
      },
      "execution_count": null,
      "outputs": []
    },
    {
      "cell_type": "code",
      "source": [
        "#DataFrame having 32 columns like 'children', 'company', 'country' and 'agent' have some null values."
      ],
      "metadata": {
        "id": "iM6mQvTun6x-"
      },
      "execution_count": 157,
      "outputs": []
    },
    {
      "cell_type": "code",
      "source": [
        "#column wise percentage with 2 decimal places\n",
        "round(100*(hotel_df.isna().sum()/len(hotel_df.index)),2)"
      ],
      "metadata": {
        "id": "Cm4CTriwh5ya"
      },
      "execution_count": null,
      "outputs": []
    },
    {
      "cell_type": "code",
      "source": [
        "#lets make a copy of original DataFrame\n",
        "hotel1=hotel_df.copy()"
      ],
      "metadata": {
        "id": "dYALABylmmfi"
      },
      "execution_count": 212,
      "outputs": []
    },
    {
      "cell_type": "code",
      "source": [
        "#lets find unique values if any\n",
        "hotel1['hotel'].unique()"
      ],
      "metadata": {
        "colab": {
          "base_uri": "https://localhost:8080/"
        },
        "id": "A_65M-WUnysI",
        "outputId": "e4d9b914-eefa-4d91-cefa-9ee339401e05"
      },
      "execution_count": 160,
      "outputs": [
        {
          "output_type": "execute_result",
          "data": {
            "text/plain": [
              "array(['Resort Hotel', 'City Hotel'], dtype=object)"
            ]
          },
          "metadata": {},
          "execution_count": 160
        }
      ]
    },
    {
      "cell_type": "code",
      "source": [
        "hotel1['is_canceled'].unique()"
      ],
      "metadata": {
        "colab": {
          "base_uri": "https://localhost:8080/"
        },
        "id": "CJHDP4jWoslS",
        "outputId": "778bef47-c154-4172-b814-d06461fa40b4"
      },
      "execution_count": 161,
      "outputs": [
        {
          "output_type": "execute_result",
          "data": {
            "text/plain": [
              "array([0, 1])"
            ]
          },
          "metadata": {},
          "execution_count": 161
        }
      ]
    },
    {
      "cell_type": "code",
      "source": [
        "hotel1['adults'].unique()"
      ],
      "metadata": {
        "colab": {
          "base_uri": "https://localhost:8080/"
        },
        "id": "gcailsAjo7lR",
        "outputId": "32dbe5cc-9ed4-4ae8-8993-ad4cfbac43f4"
      },
      "execution_count": 162,
      "outputs": [
        {
          "output_type": "execute_result",
          "data": {
            "text/plain": [
              "array([ 2,  1,  3,  4, 40, 26, 50, 27, 55,  0, 20,  6,  5, 10])"
            ]
          },
          "metadata": {},
          "execution_count": 162
        }
      ]
    },
    {
      "cell_type": "code",
      "source": [
        "#column childern having 0 as well as null values\n",
        "hotel1['children'].unique()"
      ],
      "metadata": {
        "colab": {
          "base_uri": "https://localhost:8080/"
        },
        "id": "4rW_mOFSpFFY",
        "outputId": "20c5aa53-d1b9-43d2-b1da-915be4c6bc54"
      },
      "execution_count": 163,
      "outputs": [
        {
          "output_type": "execute_result",
          "data": {
            "text/plain": [
              "array([ 0.,  1.,  2., 10.,  3., nan])"
            ]
          },
          "metadata": {},
          "execution_count": 163
        }
      ]
    },
    {
      "cell_type": "code",
      "source": [
        "hotel1['meal'].unique()"
      ],
      "metadata": {
        "colab": {
          "base_uri": "https://localhost:8080/"
        },
        "id": "W74-3Qd3raJJ",
        "outputId": "2dad20ab-b239-4210-f6aa-f3ddb3681ec7"
      },
      "execution_count": 164,
      "outputs": [
        {
          "output_type": "execute_result",
          "data": {
            "text/plain": [
              "array(['BB', 'FB', 'HB', 'SC', 'Undefined'], dtype=object)"
            ]
          },
          "metadata": {},
          "execution_count": 164
        }
      ]
    },
    {
      "cell_type": "markdown",
      "source": [
        "#1.Removing Dublicate Row if any\n",
        "\n"
      ],
      "metadata": {
        "id": "l9R2B2Pa0eJ8"
      }
    },
    {
      "cell_type": "code",
      "source": [
        "hotel1[hotel1.duplicated()].shape"
      ],
      "metadata": {
        "colab": {
          "base_uri": "https://localhost:8080/"
        },
        "id": "1gRpt2wKwxvC",
        "outputId": "2b52712c-20da-4b8a-b47b-8f79c8c8d53a"
      },
      "execution_count": 213,
      "outputs": [
        {
          "output_type": "execute_result",
          "data": {
            "text/plain": [
              "(31994, 32)"
            ]
          },
          "metadata": {},
          "execution_count": 213
        }
      ]
    },
    {
      "cell_type": "code",
      "source": [
        "hotel1.drop_duplicates(inplace = True)"
      ],
      "metadata": {
        "id": "bZ1dl1OE0Y2y"
      },
      "execution_count": 214,
      "outputs": []
    },
    {
      "cell_type": "code",
      "source": [
        "hotel1[hotel1.duplicated()].shape"
      ],
      "metadata": {
        "colab": {
          "base_uri": "https://localhost:8080/"
        },
        "id": "Ht_5iVnr02Mo",
        "outputId": "18bb0dfd-7336-4a2c-b534-2c28f26016f3"
      },
      "execution_count": 215,
      "outputs": [
        {
          "output_type": "execute_result",
          "data": {
            "text/plain": [
              "(0, 32)"
            ]
          },
          "metadata": {},
          "execution_count": 215
        }
      ]
    },
    {
      "cell_type": "code",
      "source": [
        "hotel1.shape"
      ],
      "metadata": {
        "colab": {
          "base_uri": "https://localhost:8080/"
        },
        "id": "lNWyARPs0_-I",
        "outputId": "ecace187-9805-4057-c4ae-6d26d3cd9172"
      },
      "execution_count": 216,
      "outputs": [
        {
          "output_type": "execute_result",
          "data": {
            "text/plain": [
              "(87396, 32)"
            ]
          },
          "metadata": {},
          "execution_count": 216
        }
      ]
    },
    {
      "cell_type": "markdown",
      "source": [
        "#2.Handling missing values"
      ],
      "metadata": {
        "id": "NjIK0xFT1L75"
      }
    },
    {
      "cell_type": "code",
      "source": [
        "#sort values in ascending order\n",
        "hotel1.isnull().sum().sort_values(ascending = True)"
      ],
      "metadata": {
        "colab": {
          "base_uri": "https://localhost:8080/"
        },
        "id": "jci3jZU81PLZ",
        "outputId": "d4c8f3d8-168f-47cc-9791-f980ed333279"
      },
      "execution_count": 357,
      "outputs": [
        {
          "output_type": "execute_result",
          "data": {
            "text/plain": [
              "hotel                             0\n",
              "reservation_status_date           0\n",
              "reservation_status                0\n",
              "total_of_special_requests         0\n",
              "required_car_parking_spaces       0\n",
              "adr                               0\n",
              "customer_type                     0\n",
              "days_in_waiting_list              0\n",
              "company                           0\n",
              "agent                             0\n",
              "deposit_type                      0\n",
              "booking_changes                   0\n",
              "assigned_room_type                0\n",
              "reserved_room_type                0\n",
              "previous_bookings_not_canceled    0\n",
              "previous_cancellations            0\n",
              "is_repeated_guest                 0\n",
              "distribution_channel              0\n",
              "is_canceled                       0\n",
              "lead_time                         0\n",
              "arrival_date_year                 0\n",
              "arrival_date_month                0\n",
              "arrival_date_week_number          0\n",
              "arrival_date_day_of_month         0\n",
              "total_stay                        0\n",
              "stays_in_weekend_nights           0\n",
              "adults                            0\n",
              "children                          0\n",
              "babies                            0\n",
              "meal                              0\n",
              "country                           0\n",
              "market_segment                    0\n",
              "stays_in_week_nights              0\n",
              "totle_peoples                     0\n",
              "dtype: int64"
            ]
          },
          "metadata": {},
          "execution_count": 357
        }
      ]
    },
    {
      "cell_type": "code",
      "source": [
        "#sort values in decending order\n",
        "hotel1.isnull().sum().sort_values(ascending = False)[:5]"
      ],
      "metadata": {
        "colab": {
          "base_uri": "https://localhost:8080/"
        },
        "id": "bObnukjC2QVK",
        "outputId": "06e32962-c814-42c2-c294-71dc40141a4b"
      },
      "execution_count": 358,
      "outputs": [
        {
          "output_type": "execute_result",
          "data": {
            "text/plain": [
              "hotel                   0\n",
              "days_in_waiting_list    0\n",
              "reserved_room_type      0\n",
              "assigned_room_type      0\n",
              "booking_changes         0\n",
              "dtype: int64"
            ]
          },
          "metadata": {},
          "execution_count": 358
        }
      ]
    },
    {
      "cell_type": "code",
      "source": [
        "print(hotel1['company'].unique()) \n",
        "#company having nan values\n",
        "\n",
        "print(hotel1['agent'].unique())\n",
        "#agent having nan values\n",
        "\n",
        "print(hotel1['children'].unique())\n",
        "#children having nan values\n"
      ],
      "metadata": {
        "colab": {
          "base_uri": "https://localhost:8080/"
        },
        "id": "Eowp7BFi5P9z",
        "outputId": "aca417f3-c453-4ec7-b477-bc036f830772"
      },
      "execution_count": 359,
      "outputs": [
        {
          "output_type": "stream",
          "name": "stdout",
          "text": [
            "[  0 110 113 270 178 240 154 144 307 268  59 204 312 318  94 174 274 195\n",
            " 223 317 281 118  53 286  12  47 324 342 373 371 383  86  82 218  88  31\n",
            " 397 392 405 331 367  20  83 416  51 395 102  34  84 360 394 457 382 461\n",
            " 478 386 112 486 421   9 308 135 224 504 269 356 498 390 513 203 263 477\n",
            " 521 169 515 445 337 251 428 292 388 130 250 355 254 543 531 528  62 120\n",
            "  42  81 116 530 103  39  16  92  61 501 165 291 290  43 325 192 108 200\n",
            " 465 287 297 490 482 207 282 437 225 329 272  28  77 338  72 246 319 146\n",
            " 159 380 323 511 407 278  80 403 399  14 137 343 346 347 349 289 351 353\n",
            "  54  99 358 361 362 366 372 365 277 109 377 379  22 378 330 364 401 232\n",
            " 255 384 167 212 514 391 400 376 402 396 302 398   6 370 369 409 168 104\n",
            " 408 413 148  10 333 419 415 424 425 423 422 435 439 442 448 443 454 444\n",
            "  52 459 458 456 460 447 470 466 484 184 485  32 487 491 494 193 516 496\n",
            " 499  29  78 520 507 506 512 126  64 242 518 523 539 534 436 525 541  40\n",
            " 455 410  45  38  49  48  67  68  65  91  37   8 179 209 219 221 227 153\n",
            " 186 253 202 216 275 233 280 309 321  93 316  85 107 350 279 334 348 150\n",
            "  73 385 418 197 450 452 115  46  76  96 100 105 101 122  11 139 142 127\n",
            " 143 140 149 163 160 180 238 183 222 185 217 215 213 237 230 234  35 245\n",
            " 158 258 259 260 411 257 271  18 106 210 273  71 284 301 305 293 264 311\n",
            " 304 313 288 320 314 332 341 352 243 368 393 132 220 412 420 426 417 429\n",
            " 433 446 357 479 483 489 229 481 497 451 492]\n",
            "[  0 304 240 303  15 241   8 250 115   5 175 134 156 243 242   3 105  40\n",
            " 147 306 184  96   2 127  95 146   9 177   6 143 244 149 167 300 171 305\n",
            "  67 196 152 142 261 104  36  26  29 258 110  71 181  88 251 275  69 248\n",
            " 208 256 314 126 281 273 253 185 330 334 328 326 321 324 313  38 155  68\n",
            " 335 308 332  94 348 310 339 375  66 327 387 298  91 245 385 257 393 168\n",
            " 405 249 315  75 128 307  11 436   1 201 183 223 368 336 291 464 411 481\n",
            "  10 154 468 410 390 440 495 492 493 434  57 531 420 483 526 472 429  16\n",
            " 446  34  78 139 252 270  47 114 301 193 182 135 350 195 352 355 159 363\n",
            " 384 360 331 367  64 406 163 414 333 427 431 430 426 438 433 418 441 282\n",
            " 432  72 450 180 454 455  59 451 254 358 469 165 467 510 337 476 502 527\n",
            " 479 508 535 302 497 187  13   7  27  14  22  17  28  42  20  19  45  37\n",
            "  61  39  21  24  41  50  30  54  52  12  44  31  83  32  63  60  55  56\n",
            "  89  87 118  86  85 210 214 129 179 138 174 170 153  93 151 119  35 173\n",
            "  58  53 133  79 235 192 191 236 162 215 157 287 132 234  98  77 103 107\n",
            " 262 220 121 205 378  23 296 290 229  33 286 276 425 484 323 403 219 394\n",
            " 509 111 423   4  70  82  81  74  92  99  90 112 117 106 148 158 144 211\n",
            " 213 216 232 150 267 227 247 278 280 285 289 269 295 265 288 122 294 325\n",
            " 341 344 346 359 283 364 370 371  25 141 391 397 416 404 299 197  73 354\n",
            " 444 408 461 388 453 459 474 475 480 449]\n",
            "[ 0  1  2 10  3]\n"
          ]
        }
      ]
    },
    {
      "cell_type": "code",
      "source": [
        " #For better calculation need to replace nan values by 0 \n",
        "hotel1['company'] = hotel1['company'].fillna(0)\n",
        "hotel1['agent'] = hotel1['agent'].fillna(0)\n",
        "\n",
        "#For better calculation need to replace nan values by by its mean \n",
        "hotel1['children'].fillna(hotel1['children'].mean(),inplace=True)\n",
        "\n",
        "print(hotel1['country'].isna().sum())"
      ],
      "metadata": {
        "colab": {
          "base_uri": "https://localhost:8080/"
        },
        "id": "RiFzXY0X2d4m",
        "outputId": "f70647e1-4036-46b6-fa4f-99943bfa8195"
      },
      "execution_count": 360,
      "outputs": [
        {
          "output_type": "stream",
          "name": "stdout",
          "text": [
            "0\n"
          ]
        }
      ]
    },
    {
      "cell_type": "code",
      "source": [
        "#only 'country' is remaing having null value so replace null value with 'some'\n",
        "hotel1['country'].fillna('some',inplace=True)\n",
        "\n",
        "#lets find if any null value remaing\n",
        "hotel1.isnull().sum().sort_values(ascending = False)[:6]"
      ],
      "metadata": {
        "colab": {
          "base_uri": "https://localhost:8080/"
        },
        "id": "k6zlmaUO9Nw7",
        "outputId": "1cdd2cbc-15d7-4e33-be10-16485519bb95"
      },
      "execution_count": 361,
      "outputs": [
        {
          "output_type": "execute_result",
          "data": {
            "text/plain": [
              "hotel                   0\n",
              "days_in_waiting_list    0\n",
              "reserved_room_type      0\n",
              "assigned_room_type      0\n",
              "booking_changes         0\n",
              "deposit_type            0\n",
              "dtype: int64"
            ]
          },
          "metadata": {},
          "execution_count": 361
        }
      ]
    },
    {
      "cell_type": "markdown",
      "source": [
        "3.converting column to appropriate datatype"
      ],
      "metadata": {
        "id": "z-cLyTMEQ1PK"
      }
    },
    {
      "cell_type": "code",
      "source": [
        "#convert float datatype to interger\n",
        "hotel1['children']=hotel1['children'].astype('int64')\n",
        "hotel1['agent']=hotel1['agent'].astype('int64')\n",
        "hotel1['company']=hotel1['company'].astype('int64')"
      ],
      "metadata": {
        "id": "sD1wnzzZRh6O"
      },
      "execution_count": 362,
      "outputs": []
    },
    {
      "cell_type": "code",
      "source": [
        "#changing reservation_status_date to dataframe and store value in reservation_status_date"
      ],
      "metadata": {
        "id": "byI6Ey3yVOfW"
      },
      "execution_count": 363,
      "outputs": []
    },
    {
      "cell_type": "code",
      "source": [
        "hotel1['reservation_status_date'] = pd.to_datetime(hotel1['reservation_status_date'], format = '%Y-%m-%d')"
      ],
      "metadata": {
        "id": "ImkRkiJ8VtO1"
      },
      "execution_count": 364,
      "outputs": []
    },
    {
      "cell_type": "markdown",
      "source": [
        "4.Add important columns"
      ],
      "metadata": {
        "id": "59hJFZONbIUg"
      }
    },
    {
      "cell_type": "code",
      "source": [
        "hotel1.columns"
      ],
      "metadata": {
        "colab": {
          "base_uri": "https://localhost:8080/"
        },
        "id": "PyzVj88Xdj7q",
        "outputId": "d3a6a073-c425-49a8-930a-c1cae7e0e446"
      },
      "execution_count": 365,
      "outputs": [
        {
          "output_type": "execute_result",
          "data": {
            "text/plain": [
              "Index(['hotel', 'is_canceled', 'lead_time', 'arrival_date_year',\n",
              "       'arrival_date_month', 'arrival_date_week_number',\n",
              "       'arrival_date_day_of_month', 'stays_in_weekend_nights',\n",
              "       'stays_in_week_nights', 'adults', 'children', 'babies', 'meal',\n",
              "       'country', 'market_segment', 'distribution_channel',\n",
              "       'is_repeated_guest', 'previous_cancellations',\n",
              "       'previous_bookings_not_canceled', 'reserved_room_type',\n",
              "       'assigned_room_type', 'booking_changes', 'deposit_type', 'agent',\n",
              "       'company', 'days_in_waiting_list', 'customer_type', 'adr',\n",
              "       'required_car_parking_spaces', 'total_of_special_requests',\n",
              "       'reservation_status', 'reservation_status_date', 'total_stay',\n",
              "       'totle_peoples'],\n",
              "      dtype='object')"
            ]
          },
          "metadata": {},
          "execution_count": 365
        }
      ]
    },
    {
      "cell_type": "code",
      "source": [
        "#making new column for total_stays days in hotel\n",
        "print(hotel1['stays_in_week_nights'])\n",
        "print(hotel1['stays_in_weekend_nights'])"
      ],
      "metadata": {
        "id": "gCq20gxTc6Ul"
      },
      "execution_count": null,
      "outputs": []
    },
    {
      "cell_type": "code",
      "source": [
        "hotel1['total_stay'] =hotel1['stays_in_week_nights']+hotel1['stays_in_weekend_nights']"
      ],
      "metadata": {
        "id": "ZWyHZqcCWyeN"
      },
      "execution_count": 395,
      "outputs": []
    },
    {
      "cell_type": "code",
      "source": [
        "#making new column totle_peoples by addition of babies,adults,children\n",
        "print(hotel1['babies'])\n",
        "print(hotel1['adults'])\n",
        "print(hotel1['children'])"
      ],
      "metadata": {
        "id": "Cbn9PHEjeZfT"
      },
      "execution_count": null,
      "outputs": []
    },
    {
      "cell_type": "code",
      "source": [
        "hotel1['totle_peoples']=hotel1['babies']+hotel1['adults']+hotel1['children']"
      ],
      "metadata": {
        "id": "8u3ZqWY6fCRh"
      },
      "execution_count": 369,
      "outputs": []
    },
    {
      "cell_type": "markdown",
      "source": [
        "EDA"
      ],
      "metadata": {
        "id": "mSmrDfPOnI7r"
      }
    },
    {
      "cell_type": "code",
      "source": [
        "#Lets first find the correlation between the numerical data"
      ],
      "metadata": {
        "id": "D1oyiz7bfhu4"
      },
      "execution_count": 370,
      "outputs": []
    },
    {
      "cell_type": "code",
      "source": [
        "hotel1.info()"
      ],
      "metadata": {
        "id": "w7sPEOSOnyLX"
      },
      "execution_count": null,
      "outputs": []
    },
    {
      "cell_type": "code",
      "source": [
        "'''let eliminate columns like 'is_cancelled', 'arrival_date_year', 'arrival_date_week_number', 'arrival_date_day_of_month', 'is_repeated_guest', 'company', 'agent' are categorical data having numerical type.\n",
        " So no need correction for this data\n",
        " Also, we have added total_stay and total_peoples columns. So, we can remove adults, children, babies, stays_in_weekend_nights, stays_in_week_nights columns.\n",
        "'''\n"
      ],
      "metadata": {
        "colab": {
          "base_uri": "https://localhost:8080/",
          "height": 70
        },
        "id": "wqWLkerWqKU8",
        "outputId": "c7c8908c-72e8-412e-ff02-ad9b028fe676"
      },
      "execution_count": 372,
      "outputs": [
        {
          "output_type": "execute_result",
          "data": {
            "text/plain": [
              "\"let eliminate columns like 'is_cancelled', 'arrival_date_year', 'arrival_date_week_number', 'arrival_date_day_of_month', 'is_repeated_guest', 'company', 'agent' are categorical data having numerical type.\\n So no need correction for this data\\n Also, we have added total_stay and total_peoples columns. So, we can remove adults, children, babies, stays_in_weekend_nights, stays_in_week_nights columns.\\n\""
            ],
            "application/vnd.google.colaboratory.intrinsic+json": {
              "type": "string"
            }
          },
          "metadata": {},
          "execution_count": 372
        }
      ]
    },
    {
      "cell_type": "code",
      "source": [
        "corel_df = hotel1[['lead_time','previous_cancellations','previous_bookings_not_canceled','booking_changes','days_in_waiting_list','adr','required_car_parking_spaces','total_of_special_requests','total_stay','totle_peoples']]\n"
      ],
      "metadata": {
        "id": "eS6R4VrosyXP"
      },
      "execution_count": 373,
      "outputs": []
    },
    {
      "cell_type": "code",
      "source": [
        "#correlation matrix\n",
        "cor_matrix = corel_df .corr()\n",
        "f, ax = plt.subplots(figsize=(12, 7))\n",
        "sns.heatmap(cor_matrix,annot = True,fmt='.2f', annot_kws={'size': 10},  vmax=.8, square=True);"
      ],
      "metadata": {
        "colab": {
          "base_uri": "https://localhost:8080/",
          "height": 586
        },
        "id": "JJ0Q98KItbdR",
        "outputId": "194c6c9c-39ae-419d-c228-3211f867d517"
      },
      "execution_count": 374,
      "outputs": [
        {
          "output_type": "display_data",
          "data": {
            "text/plain": [
              "<Figure size 864x504 with 2 Axes>"
            ],
            "image/png": "[encoded data removed]"
          },
          "metadata": {
            "needs_background": "light"
          }
        }
      ]
    },
    {
      "cell_type": "code",
      "source": [
        "\n",
        "#Here adr is corelated with totle_peoples.if no peoples increases then revenue must be increses.so adr(average daily rate) will be more"
      ],
      "metadata": {
        "id": "PdQJnP9PwSN6"
      },
      "execution_count": 375,
      "outputs": []
    },
    {
      "cell_type": "code",
      "source": [
        "plt.figure(figsize = (12,6))\n",
        "sns.scatterplot(y = 'adr', x = 'total_stay', data = hotel1)\n",
        "plt.show()"
      ],
      "metadata": {
        "id": "yma7rSF36rhM"
      },
      "execution_count": null,
      "outputs": []
    },
    {
      "cell_type": "code",
      "source": [
        "#here we are just apply condition for better scatterplot\n",
        "hotel1.drop(hotel1[hotel1['adr']>2000].index,inplace=True)"
      ],
      "metadata": {
        "id": "WJ_h_vJ58dL8"
      },
      "execution_count": 392,
      "outputs": []
    },
    {
      "cell_type": "code",
      "source": [
        "plt.figure(figsize = (12,6))\n",
        "sns.scatterplot(y = 'adr', x = 'total_stay', data = hotel1)\n",
        "plt.show()"
      ],
      "metadata": {
        "colab": {
          "base_uri": "https://localhost:8080/",
          "height": 378
        },
        "id": "fFwxTYxS9V6T",
        "outputId": "c1eb6d45-3d13-45e6-d5b0-7b74b8a24b48"
      },
      "execution_count": 393,
      "outputs": [
        {
          "output_type": "display_data",
          "data": {
            "text/plain": [
              "<Figure size 864x432 with 1 Axes>"
            ],
            "image/png": "[encoded data removed]"
          },
          "metadata": {
            "needs_background": "light"
          }
        }
      ]
    }
  ]
}